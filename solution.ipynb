{
 "cells": [
  {
   "cell_type": "markdown",
   "metadata": {},
   "source": [
    "# Python Treasure Hunt!\n",
    "\n",
    "We had a special lesson on encryption prepared for today in the file `bacon_binary.py`, but somebody encrypted it! Luckily, the culprit left us some clues so we can restore it.\n",
    "\n",
    "We know that for each of the encrypted messages in the trail of clues, the culprit used the [Vigenere cipher](https://en.wikipedia.org/wiki/Vigen%C3%A8re_cipher). The Vigenere cipher takes a string of letters as a key to encrypt a message, and can decrypt it using that same key. In today's mystery the Vigenere cipher is used three times, each with a different key and a different message. "
   ]
  },
  {
   "cell_type": "markdown",
   "metadata": {},
   "source": [
    "## Rules of the Game\n",
    "\n",
    "1. Each code + markdown cell below gets us one step closer to solving this puzzle\n",
    "2. We must complete and successfully run each code cell before moving onto the next one\n",
    "3. Each cell provides a clue for solving the next\n",
    "\n",
    "Goog Luck! 🍀🌠🤞\n"
   ]
  },
  {
   "cell_type": "markdown",
   "metadata": {},
   "source": [
    "## Step #1: Imports\n",
    "\n",
    "Before we can start solving this puzzle, we must import the python modules used by the next cells.\n",
    "\n",
    "**Remember**: Python modules are `.py` files inside this working directory. Functions, global variables, and classes defined in these files can be imported by other modules (or notebooks like this one) using the python `import` statement."
   ]
  },
  {
   "cell_type": "code",
   "execution_count": 1,
   "metadata": {},
   "outputs": [
    {
     "name": "stdout",
     "output_type": "stream",
     "text": [
      "I'm done importing things!\n",
      "And understand how python modules, packages, and imports work!\n",
      "But I can read this if I need to: https://realpython.com/python-modules-packages/\n"
     ]
    }
   ],
   "source": [
    "# import local modules\n",
    "from today import possible_keys\n",
    "from regex_clue import regex_clue           # importing a global variable\n",
    "from bacon_binary import bacon_binary\n",
    "from vigenere import decrypt                # importing a function\n",
    "\n",
    "\n",
    "python_packages_explained = r\"https://realpython.com/python-modules-packages/\"\n",
    "\n",
    "print(f\"I'm done importing things!\")\n",
    "print(f\"And understand how python modules, packages, and imports work!\")\n",
    "print(f\"But I can read this if I need to: {python_packages_explained}\")"
   ]
  },
  {
   "cell_type": "markdown",
   "metadata": {},
   "source": [
    "## Step #2: List Indexing\n",
    "\n",
    "- The key to solving list indexing is to read the prompt backwards. Meaning:\n",
    "- Implement the second sentence first: _\"The dictionary containing `sequins` is the second item in `possible_keys`\"_ === `possible_keys[1]['sequins']`\n",
    "- Remember lists start with index 0. So the second item in a list is index one or `[1]`"
   ]
  },
  {
   "cell_type": "code",
   "execution_count": 2,
   "metadata": {},
   "outputs": [
    {
     "name": "stdout",
     "output_type": "stream",
     "text": [
      "The key is: surprise\n",
      "\n",
      "NEXT CLUE:\n",
      "\n",
      "In `alice.py`, an exerpt from the book 'Alice in Wonderland', there's exactly one word matching this description:\n",
      "    It starts with a lowercase letter in the alphabet between 'l' and 'q'.\n",
      "    The second letter is NOT 'r', 'o', 'a', 'e', or 'p'.\n",
      "    After that there are five or more lowercase letters.\n",
      "    The word ends with the letter 's'.\n",
      "    In the file `decoded_messages.py`, use `site_address` as the first argument to `decrypt()`\n",
      "    and the word you get from `alice.py` as the second argument. The decrypted message will tell you where to go next.\n"
     ]
    }
   ],
   "source": [
    "key_1 = possible_keys[1]['sequins'][3][-1]\n",
    "print(f\"The key is: {key_1}\")\n",
    "\n",
    "# pass the key to the decrypt function as the second argument\n",
    "# uncomment and run this\n",
    "next_clue = decrypt(regex_clue, key_1)\n",
    "print(f\"\\nNEXT CLUE:\\n\\n{next_clue}\")"
   ]
  },
  {
   "cell_type": "markdown",
   "metadata": {},
   "source": [
    "## Step #3: Regex Clue\n",
    "\n",
    "- The `\\b` in regex indicates a word boundary. We use this in the beginning and at the end to look only for single words\n",
    "- Using the open/close brackets `[]`, we can search for letters given by each clue\n",
    "- `[l-q]` searches for letters between 'l' and 'q'\n",
    "- Adding `^` negates the search. So `[^roaep ]` excludes these letters from our search. We also added a space to exclude looking for two separate words with a space\n",
    "- `[a-z]{5,}` searches for any lowercase letters 5 or more times\n",
    "- Adding an `s` before the word boundary just means the word ends in `s`"
   ]
  },
  {
   "cell_type": "code",
   "execution_count": 10,
   "metadata": {},
   "outputs": [
    {
     "name": "stdout",
     "output_type": "stream",
     "text": [
      "Possible matches for regex pattern: ['pictures']\n",
      "Decrypted site address:\n",
      "https://docs.google.com/presentation/d/e/2PACX-1vQcxNNdFuEYPCPeDH-se22-uS2S_MvR1-YgD2ZSxbvlRW7iTxUCzfLX-RiYs0p6tfZbsVG2ECpPJZH-/pub?start=false&loop=false&delayms=3000\n"
     ]
    }
   ],
   "source": [
    "# import regex\n",
    "import re\n",
    "\n",
    "# import the next clue content\n",
    "from alice import rabbit_hole\n",
    "from site_address import site_address\n",
    "\n",
    "\n",
    "pattern = r\"\\b[l-q][^roaep ][a-z]{5,}s\\b\"\n",
    "result = re.findall(pattern, rabbit_hole)\n",
    "print(f\"Possible matches for regex pattern: {list(result)}\")\n",
    "\n",
    "print(\"Decrypted site address:\")\n",
    "print(decrypt(site_address, \"pictures\"))"
   ]
  },
  {
   "cell_type": "markdown",
   "metadata": {},
   "source": [
    "Go to that site, and we'll see a slide with the following clue:\n",
    "\n",
    "<br>\n",
    "\n",
    "Find the row in the DataFrame where the country is Canada and the year is between 1970 and 1980. (The built-in `.query()` method is a good tool for this.)\n",
    "\n",
    "The value in the '2nd_clue' column of this row will complete the following sentence:\n",
    "\n",
    "_\"The website revealing the final clue can be found in the 'address' column of the row where...\"_\n"
   ]
  },
  {
   "cell_type": "markdown",
   "metadata": {},
   "source": [
    "# Step #4: Pandas\n",
    "\n",
    "The imports are already in the `treasure_hunt` notebook:"
   ]
  },
  {
   "cell_type": "code",
   "execution_count": 4,
   "metadata": {},
   "outputs": [],
   "source": [
    "import pandas as pd\n",
    "from faker_dict import faker_for_df\n",
    "\n",
    "pd.options.display.max_colwidth = 200\n"
   ]
  },
  {
   "cell_type": "markdown",
   "metadata": {},
   "source": [
    "...follow the commented instruction below the imports:"
   ]
  },
  {
   "cell_type": "code",
   "execution_count": 5,
   "metadata": {},
   "outputs": [],
   "source": [
    "# Read faker_for_df into a Pandas DataFrame:\n",
    "faker_df = pd.DataFrame(faker_for_df)\n"
   ]
  },
  {
   "cell_type": "markdown",
   "metadata": {},
   "source": [
    "Pandas was imported as `pd`, so that's how we alias it in our code. We've named our DataFrame `faker_df`, because much of the data was generated by the Faker package.\n",
    "\n",
    "The first part of the clue tells us to find the row where the country is Canada, and the year is between 1970 and 1980. We can write that query like this:"
   ]
  },
  {
   "cell_type": "code",
   "execution_count": 6,
   "metadata": {},
   "outputs": [
    {
     "name": "stdout",
     "output_type": "stream",
     "text": [
      "   country  year  \\\n",
      "41  Canada  1972   \n",
      "\n",
      "                                                                                                                                                                     address  \\\n",
      "41  https://docs.google.com/presentation/d/e/2PACX-1vRvJkliTm3Dxr4WSf-dMZi0NZWwIhwGWTbP2WU2LZykmUDNceEX3f0HQ0mYVvIBQU_OkNsnlVnyZkP5/pub?start=false&loop=false&delayms=60000   \n",
      "\n",
      "    treat        color  \\\n",
      "41  donut  SaddleBrown   \n",
      "\n",
      "                                                                 2nd_clue  \n",
      "41  the 'treats' value is 'baklava' and the 'colors' value is 'PeachPuff'  \n"
     ]
    }
   ],
   "source": [
    "print(faker_df.query(\"(country == 'Canada') & (1970 < year < 1980)\"))"
   ]
  },
  {
   "cell_type": "markdown",
   "metadata": {},
   "source": [
    "This query returns row 41. The value for the `2nd_clue` column of that row is:\n",
    "\n",
    "_the 'treats' value is 'baklava' and the 'colors' value is 'PeachPuff'_\n",
    "\n",
    "The query to get a row with those values can be written as:"
   ]
  },
  {
   "cell_type": "code",
   "execution_count": 7,
   "metadata": {},
   "outputs": [
    {
     "name": "stdout",
     "output_type": "stream",
     "text": [
      "           country  year  \\\n",
      "11  Cayman Islands  1951   \n",
      "\n",
      "                                                                                                                                                                     address  \\\n",
      "11  https://docs.google.com/presentation/d/e/2PACX-1vRvJkliTWm7NoSZxU-dMZi0NZWwIhwGWTbP2WU2LZykmUDNceEX3f0HQ0mYVvIBQU_OkNsnlVnyZkP5/pub?start=false&loop=false&delayms=60000   \n",
      "\n",
      "      treat      color  \\\n",
      "11  baklava  PeachPuff   \n",
      "\n",
      "                                                                  2nd_clue  \n",
      "11  the 'treats' value is 'gummi_bears' and the 'colors' value is 'Orange'  \n"
     ]
    }
   ],
   "source": [
    "print(faker_df.query(\"(treat == 'baklava') & (color == 'PeachPuff')\"))"
   ]
  },
  {
   "cell_type": "markdown",
   "metadata": {},
   "source": [
    "The value in the `address` column for that row (row 11) is\n",
    "\n",
    "https://docs.google.com/presentation/d/e/2PACX-1vRvJkliTWm7NoSZxU-dMZi0NZWwIhwGWTbP2WU2LZykmUDNceEX3f0HQ0mYVvIBQU_OkNsnlVnyZkP5/pub?start=false&loop=false&delayms=60000   \n",
    "\n",
    "Go to that site, and you'll get the key \"quackquackquack\". Use it to decrypt the bonus lesson in `bacon_binary.py`\n"
   ]
  },
  {
   "cell_type": "code",
   "execution_count": 8,
   "metadata": {},
   "outputs": [
    {
     "name": "stdout",
     "output_type": "stream",
     "text": [
      "The Bacon binary cipher was created by the Elizabethan nobleman Sir Francis Bacon, \n",
      "    who is also credited with inventing the scientific method. It's the predecessor of modern ASCII binary code, \n",
      "    and an early example of steganography, the practice of concealing not just a message but the fact that the viewer \n",
      "    is looking at a hidden message at all. In Bacon's cipher, each letter of the alphabet corresponds to a five-character \n",
      "    pattern, where each character can take one of two forms (what Bacon called a-forms and b-forms, and we would now call \n",
      "    a bit). For instance, the letter 'B' maps to 'aaaab', and the letter 'C' maps to 'aaaba'. The genius of this cipher \n",
      "    is that the a-forms and b-forms can any two distinct categories, like grey or black pixels in an image, a row of \n",
      "    tulips and petunias in a flowerbed, or the color of threads in a shirt; a casual viewer wouldn't notice that they \n",
      "    were looking at an encrypted message. The cipher can also be used in non-visual media, like the volume of notes in a \n",
      "    song. There's even a documented example of a scientist altering the temperature of a fish habitat so that the fishs' \n",
      "    otoliths (bones that add a layer each year like the rings of a tree) were encrypted to read, microscopically, 'hi mom'. \n",
      "        From the mid-1800's to the 1940's there was a fad to comb the plays of Shakespeare, using Bacon's cipher to look for \n",
      "    secret messages or evidence that Sir Francis Bacon was the real author of Shakespeare's work. As an interesting \n",
      "    historical aside, one of the foremost advocates of this conspiracy theory, Delia Bacon (no relation), happened to be a \n",
      "    friend of Samuel Morse, inventor of Morse code.\n"
     ]
    }
   ],
   "source": [
    "print(decrypt(bacon_binary, \"quackquackquack\"))"
   ]
  },
  {
   "cell_type": "markdown",
   "metadata": {},
   "source": [
    "## Conclusion\n",
    "\n",
    "You deserve some ice-cream 🍧\n"
   ]
  }
 ],
 "metadata": {
  "kernelspec": {
   "display_name": "Python 3.7.13 ('venv': venv)",
   "language": "python",
   "name": "python3"
  },
  "language_info": {
   "codemirror_mode": {
    "name": "ipython",
    "version": 3
   },
   "file_extension": ".py",
   "mimetype": "text/x-python",
   "name": "python",
   "nbconvert_exporter": "python",
   "pygments_lexer": "ipython3",
   "version": "3.7.13"
  },
  "orig_nbformat": 4,
  "vscode": {
   "interpreter": {
    "hash": "11408b16608c9dae9a1bb5afadff09c3008d9dff2899a3118ebded43ccdfddec"
   }
  }
 },
 "nbformat": 4,
 "nbformat_minor": 2
}
