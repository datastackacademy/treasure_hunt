{
 "cells": [
  {
   "cell_type": "markdown",
   "metadata": {},
   "source": [
    "# Python Treasure Hunt!\n",
    "\n",
    "We had a special lesson on encryption prepared for you today in the file `bacon_binary.py`, but somebody encrypted it! Luckily, the culprit left us some clues so we can restore it.\n",
    "\n",
    "We know that for each of the encrypted messages in the trail of clues, the culprit used the [Vigenere cipher](https://en.wikipedia.org/wiki/Vigen%C3%A8re_cipher). The Vigenere cipher takes a string of letters as a key to encrypt a message, and can decrypt it using that same key. In today's mystery the Vigenere cipher is used three times, each with a different key and a different message. "
   ]
  },
  {
   "cell_type": "markdown",
   "metadata": {},
   "source": [
    "## Rules of the Game\n",
    "\n",
    "1. Each code + markdown cell below gets you one step closer to solving this puzzle\n",
    "2. You must complete and successfully run each code cell before moving onto the next one\n",
    "3. Each cell provides a clue for solving the next\n",
    "\n",
    "Goog Luck! 🍀🌠🤞\n"
   ]
  },
  {
   "cell_type": "markdown",
   "metadata": {},
   "source": [
    "## Step #1: Imports\n",
    "\n",
    "Before you can start solving this puzzle, you must import the python modules used by the next cells.\n",
    "\n",
    "**Remember**: Python modules are `.py` files inside this working directory. Functions, global variables, and classes defined in these files can be imported by other modules (or notebooks like this one) using the python `import` statement."
   ]
  },
  {
   "cell_type": "code",
   "execution_count": null,
   "metadata": {},
   "outputs": [],
   "source": [
    "# import local modules\n",
    "from today import possible_keys\n",
    "from regex_clue import regex_clue           # importing a global variable\n",
    "from bacon_binary import bacon_binary\n",
    "from vigenere import decrypt                # importing a function\n",
    "\n",
    "\n",
    "python_packages_explained = r\"https://realpython.com/python-modules-packages/\"\n",
    "\n",
    "print(f\"I'm done importing things!\")\n",
    "print(f\"And understand how python modules, packages, and imports work!\")\n",
    "print(f\"But I can read this if I need to: {python_packages_explained}\")"
   ]
  },
  {
   "cell_type": "markdown",
   "metadata": {},
   "source": [
    "## Step #2: List Indexing\n",
    "\n",
    "- The key to solving list indexing is to read the prompt backwards. Meaning:\n",
    "- Implement the second sentence fist: _\"The dictionary containing `sequins` is the second item in `possible_keys`\"_ === `possible_keys[1]['sequins']`\n",
    "- Remember lists start with index 0. So the second item in a list is index one or `[1]`"
   ]
  },
  {
   "cell_type": "code",
   "execution_count": null,
   "metadata": {},
   "outputs": [],
   "source": [
    "key_1 = possible_keys[1]['sequins'][3][-1]\n",
    "print(f\"The key is: {key_1}\")\n",
    "\n",
    "# pass the key to the decrypt function as the second argument\n",
    "# uncomment and run this\n",
    "next_clue = decrypt(regex_clue, key_1)\n",
    "print(f\"\\nNEXT CLUE:\\n\\n{next_clue}\")"
   ]
  },
  {
   "cell_type": "markdown",
   "metadata": {},
   "source": [
    "## Step #3: Regex Clue\n",
    "\n",
    "- The `\\b` in regex indicates a word boundary. We use this in the beginning and at the end to look only for single words\n",
    "- Using the open/close brackets `[]`, we can search for letters given by each clue\n",
    "- `[l-q]` searches for letters between 'l' and 'q'\n",
    "- Adding `^` negates the search. So `[^roaep ]` excludes these letters from our search. We also added a space to exclude looking for two separate words with a space\n",
    "- `[a-z]{5,}` searches for any lowercase letters 5 or more times"
   ]
  },
  {
   "cell_type": "code",
   "execution_count": null,
   "metadata": {},
   "outputs": [],
   "source": [
    "# import regex\n",
    "import re\n",
    "\n",
    "# import the next clue content\n",
    "from alice import rabbit_hole\n",
    "from site_address import site_address\n",
    "\n",
    "\n",
    "pattern = r\"\\b[l-q][^roaep ][a-z]{5,}\\b\"\n",
    "result = re.findall(pattern, rabbit_hole)\n",
    "print(list(result))\n",
    "\n",
    "\n",
    "print(decrypt(site_address, \"pictures\"))"
   ]
  },
  {
   "cell_type": "markdown",
   "metadata": {},
   "source": [
    "# Step #4: Pandas\n",
    "\n",
    "- **TBD**\n",
    "- Add the clue here!"
   ]
  },
  {
   "cell_type": "code",
   "execution_count": null,
   "metadata": {},
   "outputs": [],
   "source": [
    "import pandas as pd\n",
    "\n",
    "# import `faker_for_dict` from faker_dict.py\n",
    "\n",
    "pd.options.display.max_colwidth = 200\n",
    "\n",
    "\n",
    "# Read faker_for_df into a Pandas DataFrame:\n",
    "\n",
    "\n",
    "# Find the row in the DataFrame where the country is Canada and the year is between 1970 and 1980:\n",
    "\n",
    "# Find the row the first clue points to,\n",
    "\n",
    "# then follow the link in the address column:"
   ]
  },
  {
   "cell_type": "markdown",
   "metadata": {},
   "source": [
    "## Conclusion\n",
    "\n",
    "Who deserve some ice-cream 🍧\n",
    "\n",
    "<br>\n",
    "\n",
    "Take a look at `solution.ipynb` to compare your solution to ours."
   ]
  }
 ],
 "metadata": {
  "kernelspec": {
   "display_name": "Python 3.7.13 ('venv': venv)",
   "language": "python",
   "name": "python3"
  },
  "language_info": {
   "codemirror_mode": {
    "name": "ipython",
    "version": 3
   },
   "file_extension": ".py",
   "mimetype": "text/x-python",
   "name": "python",
   "nbconvert_exporter": "python",
   "pygments_lexer": "ipython3",
   "version": "3.7.13"
  },
  "orig_nbformat": 4,
  "vscode": {
   "interpreter": {
    "hash": "87aea5e5eba3427c63e80db1c8fb1c1fc040446af256b88d1357b519e02054a9"
   }
  }
 },
 "nbformat": 4,
 "nbformat_minor": 2
}
