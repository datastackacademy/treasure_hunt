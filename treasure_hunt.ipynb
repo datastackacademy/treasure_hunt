{
 "cells": [
  {
   "cell_type": "markdown",
   "metadata": {},
   "source": [
    "# Python Treasure Hunt!\n",
    "\n",
    "We had a special lesson on encryption prepared for you today in the file `bacon_binary.py`, but somebody encrypted it! Luckily, the culprit left us some clues so we can restore it.\n",
    "\n",
    "We know that for each of the encrypted messages in the trail of clues, the culprit used the [Vigenere cipher](https://en.wikipedia.org/wiki/Vigen%C3%A8re_cipher). The Vigenere cipher takes a string of letters as a key to encrypt a message, and can decrypt it using that same key. In today's mystery the Vigenere cipher is used three times, each with a different key and a different message. "
   ]
  },
  {
   "cell_type": "markdown",
   "metadata": {},
   "source": [
    "## Rules of the Game\n",
    "\n",
    "1. Each code + markdown cell below gets you one step closer to solving this puzzle\n",
    "2. You must complete and successfully run each code cell before moving onto the next one\n",
    "3. Each cell provides a clue for solving the next\n",
    "\n",
    "Goog Luck! 🍀🌠🤞\n"
   ]
  },
  {
   "cell_type": "markdown",
   "metadata": {},
   "source": [
    "## Step #1: Imports\n",
    "\n",
    "Before you can start solving this puzzle, you must import the python modules used by the next cells.\n",
    "\n",
    "**Remember**: Python modules are `.py` files inside this working directory. Functions, global variables, and classes defined in these files can be imported by other modules (or notebooks like this one) using the python `import` statement."
   ]
  },
  {
   "cell_type": "code",
   "execution_count": null,
   "metadata": {},
   "outputs": [],
   "source": [
    "# import local modules\n",
    "from today import possible_keys\n",
    "from regex_clue import regex_clue           # importing a global variable\n",
    "from bacon_binary import bacon_binary\n",
    "from vigenere import decrypt                # importing a function"
   ]
  },
  {
   "cell_type": "markdown",
   "metadata": {},
   "source": [
    "## Step #2: List Indexing\n",
    "\n",
    "The trail of clues starts in the file `today.py`. It's a poem by Frank O'Hara that has been broken into nested lists of possible keys. You'll have to use your list indexing skills.\n",
    "\n",
    "1. Open [`today.py`](today.py) and inspect the `possible_keys` list\n",
    "2. The key is the last item in the 4th list in the value of the key 'sequins'. The dictionary containing `sequins` is the second item in `possible_keys`.\n",
    "3. Use your indexing skills below to finish the code to retrieve the key\n"
   ]
  },
  {
   "cell_type": "code",
   "execution_count": null,
   "metadata": {},
   "outputs": [],
   "source": [
    "key_1 = possible_keys[1]['sequins'][3][-1]\n",
    "print(f\"The key is: {key_1}\")\n",
    "\n",
    "# pass the key to the decrypt function as the second argument\n",
    "# uncomment and run this\n",
    "next_clue = decrypt(regex_clue, key_1)\n",
    "print(f\"\\nNEXT CLUE:\\n\\n{next_clue}\")"
   ]
  },
  {
   "cell_type": "markdown",
   "metadata": {},
   "source": [
    "## Step #3: Regex Clue\n",
    "\n",
    "Using the clue above, finish the regex code below and get the next clue:"
   ]
  },
  {
   "cell_type": "code",
   "execution_count": 13,
   "metadata": {},
   "outputs": [
    {
     "name": "stdout",
     "output_type": "stream",
     "text": [
      "['pictures', 'listening', 'question', 'overhead']\n",
      "https://github.com/alma-frankenstein/whodunnit\n"
     ]
    }
   ],
   "source": [
    "# import regex\n",
    "import re\n",
    "\n",
    "# import the next clue content\n",
    "from alice import rabbit_hole\n",
    "from site_address import site_address\n",
    "\n",
    "\n",
    "pattern = r\"\\b[l-q][^roaep ][a-z]{5,}\\b\"\n",
    "result = re.findall(pattern, rabbit_hole)\n",
    "print(list(result))\n",
    "\n",
    "\n",
    "print(decrypt(site_address, \"pictures\"))"
   ]
  },
  {
   "cell_type": "markdown",
   "metadata": {},
   "source": [
    "# Alma\n",
    "\n",
    "Based on the last clue, I found 4 words which matched the regex! Do I have it wrong?!\n",
    "\n",
    "If we add a condition: \"and it ends with the letter 's'\"\n",
    "\n",
    "then there's only one word with is the key: pictures"
   ]
  }
 ],
 "metadata": {
  "kernelspec": {
   "display_name": "Python 3.7.13 ('venv': venv)",
   "language": "python",
   "name": "python3"
  },
  "language_info": {
   "codemirror_mode": {
    "name": "ipython",
    "version": 3
   },
   "file_extension": ".py",
   "mimetype": "text/x-python",
   "name": "python",
   "nbconvert_exporter": "python",
   "pygments_lexer": "ipython3",
   "version": "3.7.13"
  },
  "orig_nbformat": 4,
  "vscode": {
   "interpreter": {
    "hash": "87aea5e5eba3427c63e80db1c8fb1c1fc040446af256b88d1357b519e02054a9"
   }
  }
 },
 "nbformat": 4,
 "nbformat_minor": 2
}
