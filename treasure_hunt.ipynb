{
 "cells": [
  {
   "cell_type": "markdown",
   "metadata": {},
   "source": [
    "# Python Treasure Hunt!\n",
    "\n",
    "We had a special lesson on encryption prepared for you today in the file `bacon_binary.py`, but somebody encrypted it! Luckily, the culprit left us some clues so we can restore it.\n",
    "\n",
    "We know that for each of the encrypted messages in the trail of clues, the culprit used the [Vigenere cipher](https://en.wikipedia.org/wiki/Vigen%C3%A8re_cipher). The Vigenere cipher takes a string of letters as a key to encrypt a message, and can decrypt it using that same key. In today's mystery the Vigenere cipher is used three times, each with a different key and a different message. "
   ]
  },
  {
   "cell_type": "markdown",
   "metadata": {},
   "source": [
    "## Rules of the Game\n",
    "\n",
    "1. Each code + markdown cell below gets us one step closer to solving this puzzle\n",
    "2. We must complete and successfully run each code cell before moving onto the next one\n",
    "3. Each cell provides a clue for solving the next\n",
    "\n",
    "Good Luck! 🍀🌠🤞\n"
   ]
  },
  {
   "cell_type": "markdown",
   "metadata": {},
   "source": [
    "## Step #1: Imports\n",
    "\n",
    "Before we can start solving this puzzle, we must import the python modules used by the next cells.\n",
    "\n",
    "**Remember**: Python modules are `.py` files inside this working directory. Functions, global variables, and classes defined in these files can be imported by other modules (or notebooks like this one) using the python `import` statement."
   ]
  },
  {
   "cell_type": "code",
   "execution_count": null,
   "metadata": {},
   "outputs": [],
   "source": [
    "# import local modules\n",
    "from today import possible_keys\n",
    "from regex_clue import regex_clue           # importing a global variable\n",
    "from bacon_binary import bacon_binary\n",
    "from vigenere import decrypt                # importing a function\n",
    "\n",
    "\n",
    "python_packages_explained = r\"https://realpython.com/python-modules-packages/\"\n",
    "\n",
    "print(f\"I'm done importing things!\")\n",
    "print(f\"And understand how python modules, packages, and imports work!\")\n",
    "print(f\"But I can read this if I need to: {python_packages_explained}\")\n",
    "\n",
    "\n",
    "FINISH_THIS_CODE = None"
   ]
  },
  {
   "cell_type": "markdown",
   "metadata": {},
   "source": [
    "## Step #2: Indexing\n",
    "\n",
    "The trail of clues starts in the file `today.py`. It's a poem by Frank O'Hara that has been broken into nested lists and dictionaries of possible keys. You'll have to use your indexing skills.\n",
    "\n",
    "1. Open [`today.py`](today.py) and inspect the `possible_keys` list\n",
    "2. The key is the last item in the 4th list in the value of the key 'sequins'. The dictionary containing `sequins` is the second item in `possible_keys`.\n",
    "3. Use your indexing skills below to finish the code to retrieve the key\n"
   ]
  },
  {
   "cell_type": "code",
   "execution_count": null,
   "metadata": {},
   "outputs": [],
   "source": [
    "key_1 = possible_keys[ FINISH_THIS_CODE ]\n",
    "print(f\"The key is: {key_1}\")"
   ]
  },
  {
   "cell_type": "code",
   "execution_count": null,
   "metadata": {},
   "outputs": [],
   "source": [
    "# If the cell above ran with the correct key,\n",
    "# running this cell will give us the next clue\n",
    "\n",
    "next_clue = decrypt(regex_clue, key_1)\n",
    "print(f\"\\nNEXT CLUE:\\n\\n{next_clue}\")"
   ]
  },
  {
   "cell_type": "markdown",
   "metadata": {},
   "source": [
    "## Step #3: Regex Clue\n",
    "\n",
    "Using the clue above, finish the regex code below and get the next clue:"
   ]
  },
  {
   "cell_type": "code",
   "execution_count": null,
   "metadata": {},
   "outputs": [],
   "source": [
    "# import regex\n",
    "import re\n",
    "\n",
    "# import the next clue content\n",
    "from alice import rabbit_hole\n",
    "from site_address import site_address\n",
    "\n",
    "# Finish this code with your regex search\n",
    "pattern = r\"FINISH_THIS_CODE\"\n",
    "result = re.findall(pattern, rabbit_hole)\n",
    "print(list(result))"
   ]
  },
  {
   "cell_type": "code",
   "execution_count": null,
   "metadata": {},
   "outputs": [],
   "source": [
    "# Pass the string we found in the cell above as the second argument to decrypt()\n",
    "\n",
    "print(decrypt(site_address, FINISH_THIS_CODE))"
   ]
  },
  {
   "cell_type": "markdown",
   "metadata": {},
   "source": [
    "# Step #4: Pandas\n",
    "\n",
    "In the cell below, turn the `faker_for_df` dictionary into a Pandas DataFrame. \n",
    "\n",
    "Then, use the clue we got from solving Step #3 to find our final clue.\n"
   ]
  },
  {
   "cell_type": "code",
   "execution_count": null,
   "metadata": {},
   "outputs": [],
   "source": [
    "import pandas as pd\n",
    "from faker_dict import faker_for_df\n",
    "\n",
    "pd.options.display.max_colwidth = 200\n",
    "\n",
    "# Read faker_for_df into a Pandas DataFrame:\n",
    "\n",
    "# Follow the instructions you got by solving the regex puzzle to see where to go next:\n"
   ]
  },
  {
   "cell_type": "markdown",
   "metadata": {},
   "source": [
    "# Step #5: Final Clue\n",
    "\n",
    "If you were able to solve the puzzle above, you now have the final key! Use it as the second argument to `decrypt()` in the cell below to decrypt the bonus lesson:"
   ]
  },
  {
   "cell_type": "code",
   "execution_count": null,
   "metadata": {},
   "outputs": [],
   "source": [
    "print(decrypt(bacon_binary, FINISH_THIS_CODE))"
   ]
  },
  {
   "cell_type": "markdown",
   "metadata": {},
   "source": [
    "## Conclusion\n",
    "\n",
    "You deserve some ice-cream 🍧\n",
    "\n",
    "<br>\n",
    "\n",
    "If you get stuck, take a look at `solution.ipynb`."
   ]
  }
 ],
 "metadata": {
  "kernelspec": {
   "display_name": "Python 3.7.13 ('venv': venv)",
   "language": "python",
   "name": "python3"
  },
  "language_info": {
   "codemirror_mode": {
    "name": "ipython",
    "version": 3
   },
   "file_extension": ".py",
   "mimetype": "text/x-python",
   "name": "python",
   "nbconvert_exporter": "python",
   "pygments_lexer": "ipython3",
   "version": "3.7.13"
  },
  "orig_nbformat": 4,
  "vscode": {
   "interpreter": {
    "hash": "11408b16608c9dae9a1bb5afadff09c3008d9dff2899a3118ebded43ccdfddec"
   }
  }
 },
 "nbformat": 4,
 "nbformat_minor": 2
}
